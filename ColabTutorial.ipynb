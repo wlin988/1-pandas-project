{
  "nbformat": 4,
  "nbformat_minor": 0,
  "metadata": {
    "colab": {
      "name": "ColabTutorial.ipynb",
      "provenance": [],
      "collapsed_sections": [],
      "include_colab_link": true
    },
    "kernelspec": {
      "name": "python3",
      "display_name": "Python 3"
    },
    "accelerator": "GPU"
  },
  "cells": [
    {
      "cell_type": "markdown",
      "metadata": {
        "id": "view-in-github",
        "colab_type": "text"
      },
      "source": [
        "<a href=\"https://colab.research.google.com/github/wlin988/1-pandas-project/blob/master/ColabTutorial.ipynb\" target=\"_parent\"><img src=\"https://colab.research.google.com/assets/colab-badge.svg\" alt=\"Open In Colab\"/></a>"
      ]
    },
    {
      "cell_type": "markdown",
      "metadata": {
        "id": "054sbUkob2c3",
        "colab_type": "text"
      },
      "source": [
        "# APS360 Tutorial 0 - How to use Google Colab"
      ]
    },
    {
      "cell_type": "markdown",
      "metadata": {
        "id": "pmECBCuVdu8N",
        "colab_type": "text"
      },
      "source": [
        "## What is Google Colab\n",
        "\n",
        "Google Colab is a web-based iPython Notebook service for interactive coding. Google Colab offers **free access to Nvidia K80 GPU**, and it is becoming a popular tool for quick prototyping and visualization. Colab is easy to learn and it is very similar to Jupyter Notebook, another very popular tool for interactive coding. \n",
        "\n",
        "In this course, we will use Google Colab for most of the labs and tutorials."
      ]
    },
    {
      "cell_type": "markdown",
      "metadata": {
        "id": "ES75IrSxB3Fk",
        "colab_type": "text"
      },
      "source": [
        "# Colab Basics"
      ]
    },
    {
      "cell_type": "markdown",
      "metadata": {
        "id": "TU6draQQrq5M",
        "colab_type": "text"
      },
      "source": [
        "If you are viewing this file read-only (i.e. using the shared link), click ''**OPEN IN PLAYGROUND**\", right below the header. Playground mode opens a copy of the read-only notebook in a temporary session that doesn't save the notebook. If you want to save any changes, you must **save the notebook** (this is covered below). \n",
        "\n",
        "![alt text](https://drive.google.com/uc?export=view&id=1_6dbuuxK9m2p0SfS3nrR6dCd6E9BKfaB)"
      ]
    },
    {
      "cell_type": "markdown",
      "metadata": {
        "id": "48jvUKSArw0k",
        "colab_type": "text"
      },
      "source": [
        "\n",
        "A Colab file is composed of 'cells' which are blocks of code that can be run independently. Cells can be added by clicking the '+' buttons on the top left-hand side. \n",
        "\n",
        "You can select a cell by clicking on it. Below is an example of code cell."
      ]
    },
    {
      "cell_type": "code",
      "metadata": {
        "id": "WWf-TXIEEDVv",
        "colab_type": "code",
        "colab": {}
      },
      "source": [
        "print(\"This is 'code' cell.\")\n",
        "\n",
        "a = 4\n",
        "print(\"a: %d\" % a)"
      ],
      "execution_count": 0,
      "outputs": []
    },
    {
      "cell_type": "markdown",
      "metadata": {
        "id": "81E69UM6Mgxb",
        "colab_type": "text"
      },
      "source": [
        "## Running and Organizing Cells\n",
        "\n",
        "There are several options for running a cell or group of cells. These options are listed under the **Runtime** menu of the header. \n",
        "\n",
        "Alternatively, a single cell can be executed by the 'Run' button on the left side. \n",
        "\n",
        "![alt text](https://drive.google.com/uc?export=view&id=1Eaw-1kEgthETTDlNL3E2mDrGAEJV2a0E)\n",
        "\n",
        "\n",
        "Try running the above example code cell. Then, run the code cell below. "
      ]
    },
    {
      "cell_type": "code",
      "metadata": {
        "id": "pNCJOXTum_bm",
        "colab_type": "code",
        "colab": {}
      },
      "source": [
        "b = 5 * a\n",
        "print(\"a: %d\" % b)\n",
        "print(\"b: %d\" % b)"
      ],
      "execution_count": 0,
      "outputs": []
    },
    {
      "cell_type": "markdown",
      "metadata": {
        "id": "32do8DDcnhqs",
        "colab_type": "text"
      },
      "source": [
        "Note that each cells can be run independently, and if there is a change, only the cells related to that change need to be run again. \n",
        "\n",
        "Therefore, it is important to decompose your code into blocks of cells, instead of writing everything in a single cell. This modular approach makes it easy to change parts of the code without re-running everything. "
      ]
    },
    {
      "cell_type": "markdown",
      "metadata": {
        "id": "Ga5KS3DBmvop",
        "colab_type": "text"
      },
      "source": [
        "## Saving and Exporting Colab file\n",
        "\n",
        "\n"
      ]
    },
    {
      "cell_type": "markdown",
      "metadata": {
        "id": "VGJ8HgMhE61D",
        "colab_type": "text"
      },
      "source": [
        "As mentioned above, Playground only provides temporary session, so in order to save any changes, notebook files must be saved. \n",
        "\n",
        "The easiest way to save Colab notebook is to save it in your Google Drive. Click **File > Save a copy in Drive**. Once you saved a copy of this tutorial, you can open it from your Google Drive or Colab dashboard. \n",
        "\n",
        "![alt text](https://drive.google.com/uc?export=view&id=1y_LaRF0wsE71QMzlYW4nrqRxXsW_MLcJ)\n",
        "\n",
        "![alt text](https://drive.google.com/uc?export=view&id=1Tfy9LqrwdhhDBI8RQMkCe5RnzZPf6F2o)\n",
        "\n",
        "Try creating a folder for this course (e.g. APS360) in your Google Drive and save all Colab files in there to reduce clutter. "
      ]
    },
    {
      "cell_type": "markdown",
      "metadata": {
        "id": "fRI4jVyo_-zI",
        "colab_type": "text"
      },
      "source": [
        "Colab can be exported as a notebook file or Python file by **File > Download .ipynb** or **File > Download .py**. Exported notebook files can be reloaded into Google Colab or used in Jupyter Notebook. "
      ]
    },
    {
      "cell_type": "markdown",
      "metadata": {
        "id": "DByG4RzaAZtP",
        "colab_type": "text"
      },
      "source": [
        "To save Colab file as a PDF, **File > Print** and then save as PDF. \n",
        "\n",
        "For example, in Google Chrome, click 'Open PDF in Preview'.\n",
        "\n",
        "![alt text](https://drive.google.com/uc?export=view&id=1O_ZZJMizjJ_GQPnm92X_kP55mvqIKaVo)"
      ]
    },
    {
      "cell_type": "markdown",
      "metadata": {
        "id": "hisAbf-8Iz_J",
        "colab_type": "text"
      },
      "source": [
        "You can share Colab using sharable link. Click 'Share' button on the top right corner and click 'Get sharable link'.\n",
        "\n",
        "![alt text](https://drive.google.com/uc?export=view&id=1S_ov5nWwImBWubdAb6J-Ns2UFe0zva_X)"
      ]
    },
    {
      "cell_type": "markdown",
      "metadata": {
        "id": "i5Sxrqw7IF-5",
        "colab_type": "text"
      },
      "source": [
        "# Running Bash Commands and Installing Packages\n",
        "\n",
        "## Bash Commands\n",
        "\n",
        "Bash commands can be run by prefixing the command with ''**!**''.\n",
        "\n",
        "For example, below 'pwd' command prints out the pathway to the current working directory. "
      ]
    },
    {
      "cell_type": "code",
      "metadata": {
        "id": "vMJkei4GI9kW",
        "colab_type": "code",
        "colab": {}
      },
      "source": [
        "!pwd"
      ],
      "execution_count": 0,
      "outputs": []
    },
    {
      "cell_type": "markdown",
      "metadata": {
        "id": "UY7u68dsvPjh",
        "colab_type": "text"
      },
      "source": [
        "'ls' command prints out a list of contents in current directory."
      ]
    },
    {
      "cell_type": "code",
      "metadata": {
        "id": "FQL7Bqp_vdDO",
        "colab_type": "code",
        "colab": {}
      },
      "source": [
        "!ls"
      ],
      "execution_count": 0,
      "outputs": []
    },
    {
      "cell_type": "markdown",
      "metadata": {
        "id": "Y_uVFPv7JjVH",
        "colab_type": "text"
      },
      "source": [
        "Bash command can be used to install packages or download files (e.g. datasets). \n",
        "\n",
        "\n",
        "\n",
        "\n",
        "\n"
      ]
    },
    {
      "cell_type": "markdown",
      "metadata": {
        "id": "AIV4udfDLwHd",
        "colab_type": "text"
      },
      "source": [
        "## Installing Packages\n",
        "\n",
        "Most common libraries (including PyTorch) are already installed on Colab. \n",
        "\n",
        "To install Python packages, use"
      ]
    },
    {
      "cell_type": "code",
      "metadata": {
        "id": "MCAfZtdKLWie",
        "colab_type": "code",
        "colab": {}
      },
      "source": [
        "!pip install [package name]"
      ],
      "execution_count": 0,
      "outputs": []
    },
    {
      "cell_type": "markdown",
      "metadata": {
        "id": "2dTwYO5dLaBs",
        "colab_type": "text"
      },
      "source": [
        "To install other packages available through Advanced Package Tool (apt)"
      ]
    },
    {
      "cell_type": "code",
      "metadata": {
        "id": "UTRJlO55LdKf",
        "colab_type": "code",
        "colab": {}
      },
      "source": [
        "!apt-get install [package name]"
      ],
      "execution_count": 0,
      "outputs": []
    },
    {
      "cell_type": "markdown",
      "metadata": {
        "id": "DNVYbPlnEmZz",
        "colab_type": "text"
      },
      "source": [
        "# Using Google Drive\n",
        "\n",
        "As mentioned above, Google Drive can be used to save Colab notebook files. However, this does not mean your Colab session will have access to your Google Drive. Sometimes you might want to load or save files from Colab session, and to do so, you need to mount Google Drive first. \n",
        "\n",
        "Before mounting Google Drive, `/content` directory does not have `gdrive` directory, which is what we want to mount. "
      ]
    },
    {
      "cell_type": "code",
      "metadata": {
        "id": "QxN9GI2iG0VQ",
        "colab_type": "code",
        "colab": {}
      },
      "source": [
        "!ls /content"
      ],
      "execution_count": 0,
      "outputs": []
    },
    {
      "cell_type": "markdown",
      "metadata": {
        "id": "Co70w2WwG4_Q",
        "colab_type": "text"
      },
      "source": [
        "To mount Google Drive, run the below code and go to the link to retireve the authorization code. Paste the authorization code in the box created by running the code and press enter. "
      ]
    },
    {
      "cell_type": "code",
      "metadata": {
        "id": "CXnyoIOFGCYk",
        "colab_type": "code",
        "colab": {}
      },
      "source": [
        "from google.colab import drive\n",
        "\n",
        "drive.mount('/content/gdrive')"
      ],
      "execution_count": 0,
      "outputs": []
    },
    {
      "cell_type": "markdown",
      "metadata": {
        "id": "X7e_EBGeHv5b",
        "colab_type": "text"
      },
      "source": [
        "Once mounted successfully, your entire Google Drive files should be accessible under `/content/gdrive/My\\ Drive/`"
      ]
    },
    {
      "cell_type": "code",
      "metadata": {
        "id": "tFyK89OEGkOc",
        "colab_type": "code",
        "colab": {}
      },
      "source": [
        "!ls /content/gdrive/My\\ Drive"
      ],
      "execution_count": 0,
      "outputs": []
    },
    {
      "cell_type": "markdown",
      "metadata": {
        "id": "i3F5Xe8GICzu",
        "colab_type": "text"
      },
      "source": [
        "After mounting Google Drive, you can download dataset into Google Drive and use it in Colab session, or save outputs of the session into your Google Drive. "
      ]
    },
    {
      "cell_type": "markdown",
      "metadata": {
        "id": "_F2NZuHRE99n",
        "colab_type": "text"
      },
      "source": [
        "# Using Hardware Accelerator\n",
        "\n",
        "To use GPU (or TPU), go to **Runtime > Change runtime type** and under **Hardware accelerator**, choose **GPU** or **TPU**. \n",
        "\n",
        "![Runtime typet](https://cdn-images-1.medium.com/max/1600/1*WNovJnpGMOys8Rv7YIsZzA.png)\n",
        "\n",
        "After enabling GPU, below statement should **print true**."
      ]
    },
    {
      "cell_type": "code",
      "metadata": {
        "id": "ZpeWhDXCGZn_",
        "colab_type": "code",
        "colab": {}
      },
      "source": [
        "import torch\n",
        "\n",
        "torch.cuda.is_available()"
      ],
      "execution_count": 0,
      "outputs": []
    }
  ]
}