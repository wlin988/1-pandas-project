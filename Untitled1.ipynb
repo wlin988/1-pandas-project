{
  "nbformat": 4,
  "nbformat_minor": 0,
  "metadata": {
    "colab": {
      "name": "Untitled1.ipynb",
      "provenance": [],
      "include_colab_link": true
    },
    "kernelspec": {
      "name": "python3",
      "display_name": "Python 3"
    }
  },
  "cells": [
    {
      "cell_type": "markdown",
      "metadata": {
        "id": "view-in-github",
        "colab_type": "text"
      },
      "source": [
        "<a href=\"https://colab.research.google.com/github/wlin988/1-pandas-project/blob/master/Untitled1.ipynb\" target=\"_parent\"><img src=\"https://colab.research.google.com/assets/colab-badge.svg\" alt=\"Open In Colab\"/></a>"
      ]
    },
    {
      "cell_type": "code",
      "metadata": {
        "id": "6Hpo8lVz4IDK",
        "colab_type": "code",
        "outputId": "f9299adb-db7a-4ae2-84c1-1ee142bcf99e",
        "colab": {
          "base_uri": "https://localhost:8080/",
          "height": 119
        }
      },
      "source": [
        "!git clone https://github.com/wlin988/1-pandas-project.git\n",
        "  "
      ],
      "execution_count": 0,
      "outputs": [
        {
          "output_type": "stream",
          "text": [
            "Cloning into '1-pandas-project'...\n",
            "remote: Enumerating objects: 7, done.\u001b[K\n",
            "remote: Counting objects: 100% (7/7), done.\u001b[K\n",
            "remote: Compressing objects: 100% (7/7), done.\u001b[K\n",
            "remote: Total 7 (delta 0), reused 0 (delta 0), pack-reused 0\u001b[K\n",
            "Unpacking objects: 100% (7/7), done.\n"
          ],
          "name": "stdout"
        }
      ]
    },
    {
      "cell_type": "code",
      "metadata": {
        "id": "n6mM9WM54NCV",
        "colab_type": "code",
        "outputId": "86ccc627-8cd8-4f84-e10e-d5494a4b45b9",
        "colab": {
          "base_uri": "https://localhost:8080/",
          "height": 34
        }
      },
      "source": [
        "!ls\n"
      ],
      "execution_count": 0,
      "outputs": [
        {
          "output_type": "stream",
          "text": [
            "1-pandas-project  sample_data\n"
          ],
          "name": "stdout"
        }
      ]
    },
    {
      "cell_type": "code",
      "metadata": {
        "id": "frGTVBsP4OaD",
        "colab_type": "code",
        "outputId": "dae5da82-c042-42f1-fff9-5c83076e719a",
        "colab": {
          "base_uri": "https://localhost:8080/",
          "height": 34
        }
      },
      "source": [
        "cd 1-pandas-project/"
      ],
      "execution_count": 0,
      "outputs": [
        {
          "output_type": "stream",
          "text": [
            "/content/1-pandas-project\n"
          ],
          "name": "stdout"
        }
      ]
    },
    {
      "cell_type": "code",
      "metadata": {
        "id": "9O3p4ECz4Rf5",
        "colab_type": "code",
        "outputId": "97eb6d95-01c4-4758-d533-93922011b4d4",
        "colab": {
          "base_uri": "https://localhost:8080/",
          "height": 34
        }
      },
      "source": [
        "!pwd\n"
      ],
      "execution_count": 0,
      "outputs": [
        {
          "output_type": "stream",
          "text": [
            "/content/1-pandas-project\n"
          ],
          "name": "stdout"
        }
      ]
    },
    {
      "cell_type": "code",
      "metadata": {
        "id": "Gxw0-tyZ4TJR",
        "colab_type": "code",
        "outputId": "4b0afabe-1554-467e-e70d-766306a8255b",
        "colab": {
          "base_uri": "https://localhost:8080/",
          "height": 170
        }
      },
      "source": [
        "!ls -lta"
      ],
      "execution_count": 0,
      "outputs": [
        {
          "output_type": "stream",
          "text": [
            "total 32\n",
            "drwxr-xr-x 3 root root 4096 Oct 20 01:55 .\n",
            "drwxr-xr-x 8 root root 4096 Oct 20 01:55 .git\n",
            "-rw-r--r-- 1 root root 1121 Oct 20 01:55 keras-quiz1-oct2019.zip\n",
            "-rw-r--r-- 1 root root   65 Oct 20 01:55 MANIFEST.MF\n",
            "-rw-r--r-- 1 root root  519 Oct 20 01:55 quiz1.py\n",
            "-rw-r--r-- 1 root root  645 Oct 20 01:55 quiz1-questions.txt\n",
            "-rw-r--r-- 1 root root  562 Oct 20 01:55 quiz1_weather.csv\n",
            "drwxr-xr-x 1 root root 4096 Oct 20 01:55 ..\n"
          ],
          "name": "stdout"
        }
      ]
    },
    {
      "cell_type": "code",
      "metadata": {
        "id": "Cq6c_uvUBc7V",
        "colab_type": "code",
        "colab": {}
      },
      "source": [
        "# Import PyDrive and associated libraries.\n",
        "# This only needs to be done once per notebook.\n",
        "from pydrive.auth import GoogleAuth\n",
        "from pydrive.drive import GoogleDrive\n",
        "from google.colab import auth\n",
        "from oauth2client.client import GoogleCredentials\n",
        "\n",
        "# Authenticate and create the PyDrive client.\n",
        "# This only needs to be done once per notebook.\n",
        "auth.authenticate_user()\n",
        "gauth = GoogleAuth()\n",
        "gauth.credentials = GoogleCredentials.get_application_default()\n",
        "drive = GoogleDrive(gauth)\n",
        "\n",
        "# Download a file based on its file ID.\n",
        "#\n",
        "# A file ID looks like: laggVyWshwcyP6kEI-y_W3P8D26sz\n",
        "file_id = 'REPLACE_WITH_YOUR_FILE_ID'\n",
        "downloaded = drive.CreateFile({'id': file_id})\n",
        "print('Downloaded content \"{}\"'.format(downloaded.GetContentString()))"
      ],
      "execution_count": 0,
      "outputs": []
    },
    {
      "cell_type": "code",
      "metadata": {
        "id": "-KY6moW6BjEq",
        "colab_type": "code",
        "colab": {}
      },
      "source": [
        "from IPython.display import display, Javascript\n",
        "from google.colab.output import eval_js\n",
        "from base64 import b64decode\n",
        "\n",
        "def take_photo(filename='photo.jpg', quality=0.8):\n",
        "  js = Javascript('''\n",
        "    async function takePhoto(quality) {\n",
        "      const div = document.createElement('div');\n",
        "      const capture = document.createElement('button');\n",
        "      capture.textContent = 'Capture';\n",
        "      div.appendChild(capture);\n",
        "\n",
        "      const video = document.createElement('video');\n",
        "      video.style.display = 'block';\n",
        "      const stream = await navigator.mediaDevices.getUserMedia({video: true});\n",
        "\n",
        "      document.body.appendChild(div);\n",
        "      div.appendChild(video);\n",
        "      video.srcObject = stream;\n",
        "      await video.play();\n",
        "\n",
        "      // Resize the output to fit the video element.\n",
        "      google.colab.output.setIframeHeight(document.documentElement.scrollHeight, true);\n",
        "\n",
        "      // Wait for Capture to be clicked.\n",
        "      await new Promise((resolve) => capture.onclick = resolve);\n",
        "\n",
        "      const canvas = document.createElement('canvas');\n",
        "      canvas.width = video.videoWidth;\n",
        "      canvas.height = video.videoHeight;\n",
        "      canvas.getContext('2d').drawImage(video, 0, 0);\n",
        "      stream.getVideoTracks()[0].stop();\n",
        "      div.remove();\n",
        "      return canvas.toDataURL('image/jpeg', quality);\n",
        "    }\n",
        "    ''')\n",
        "  display(js)\n",
        "  data = eval_js('takePhoto({})'.format(quality))\n",
        "  binary = b64decode(data.split(',')[1])\n",
        "  with open(filename, 'wb') as f:\n",
        "    f.write(binary)\n",
        "  return filename"
      ],
      "execution_count": 0,
      "outputs": []
    },
    {
      "cell_type": "markdown",
      "metadata": {
        "id": "mbtHmLckB5_4",
        "colab_type": "text"
      },
      "source": [
        "# New Section"
      ]
    },
    {
      "cell_type": "code",
      "metadata": {
        "id": "XBX1u5b0BjEM",
        "colab_type": "code",
        "colab": {}
      },
      "source": [
        "from IPython.display import Image\n",
        "try:\n",
        "  filename = take_photo()\n",
        "  print('Saved to {}'.format(filename))\n",
        "  \n",
        "  # Show the image which was just taken.\n",
        "  display(Image(filename))\n",
        "except Exception as err:\n",
        "  # Errors will be thrown if the user does not have a webcam or if they do not\n",
        "  # grant the page permission to access it.\n",
        "  print(str(err))"
      ],
      "execution_count": 0,
      "outputs": []
    },
    {
      "cell_type": "code",
      "metadata": {
        "id": "2BJWJt9Z5UPC",
        "colab_type": "code",
        "outputId": "15a69fca-2825-4079-df80-e3d57b683f8d",
        "colab": {
          "base_uri": "https://localhost:8080/",
          "height": 1000
        }
      },
      "source": [
        "!python quiz1.py"
      ],
      "execution_count": 0,
      "outputs": [
        {
          "output_type": "stream",
          "text": [
            "(19, 6)\n",
            "Index(['day', 'temperature', 'windspeed', 'event', 'city', 'state'], dtype='object')\n",
            "         day  ...  state\n",
            "0   4/1/2018  ...     ca\n",
            "1   4/2/2018  ...     ca\n",
            "2   4/3/2018  ...     mn\n",
            "3  10/1/2018  ...     ca\n",
            "4  10/2/2018  ...     ca\n",
            "\n",
            "[5 rows x 6 columns]\n",
            "         day  ...  state\n",
            "0   4/1/2018  ...     ca\n",
            "1   4/2/2018  ...     ca\n",
            "2   4/3/2018  ...     mn\n",
            "3  10/1/2018  ...     ca\n",
            "4  10/2/2018  ...     ca\n",
            "\n",
            "[5 rows x 6 columns]\n",
            "           day  ...  state\n",
            "14  10/16/2018  ...     ca\n",
            "15    8/1/2018  ...     ca\n",
            "16    8/2/2018  ...     ca\n",
            "17    8/3/2018  ...     mn\n",
            "18    8/4/2018  ...     mn\n",
            "\n",
            "[5 rows x 6 columns]\n",
            "           day  temperature\n",
            "0     4/1/2018         42.0\n",
            "1     4/2/2018         45.0\n",
            "2     4/3/2018         78.0\n",
            "3    10/1/2018         42.0\n",
            "4    10/2/2018         45.0\n",
            "5    10/3/2018         78.0\n",
            "6    10/4/2018         74.0\n",
            "7    10/5/2018         42.0\n",
            "8    10/6/2018         51.0\n",
            "9   10/11/2018          NaN\n",
            "10  10/12/2018         45.0\n",
            "11  10/13/2018          NaN\n",
            "12  10/14/2018         74.0\n",
            "13  10/15/2018          NaN\n",
            "14  10/16/2018         51.0\n",
            "15    8/1/2018         42.0\n",
            "16    8/2/2018         45.0\n",
            "17    8/3/2018         78.0\n",
            "18    8/4/2018         78.0\n",
            "78.0\n",
            "42.0\n",
            "56.875\n",
            "13.0\n",
            "48.0\n",
            "12.0\n",
            "           day  ...  state\n",
            "7    10/5/2018  ...     or\n",
            "13  10/15/2018  ...     or\n",
            "18    8/4/2018  ...     mn\n",
            "12  10/14/2018  ...     mn\n",
            "2     4/3/2018  ...     mn\n",
            "17    8/3/2018  ...     mn\n",
            "5    10/3/2018  ...     mn\n",
            "6    10/4/2018  ...     mn\n",
            "11  10/13/2018  ...     mn\n",
            "16    8/2/2018  ...     ca\n",
            "15    8/1/2018  ...     ca\n",
            "14  10/16/2018  ...     ca\n",
            "0     4/1/2018  ...     ca\n",
            "10  10/12/2018  ...     ca\n",
            "1     4/2/2018  ...     ca\n",
            "8    10/6/2018  ...     ca\n",
            "4    10/2/2018  ...     ca\n",
            "3    10/1/2018  ...     ca\n",
            "9   10/11/2018  ...     ca\n",
            "\n",
            "[19 rows x 6 columns]\n",
            "           day  ... state\n",
            "3    10/1/2018  ...    ca\n",
            "4    10/2/2018  ...    ca\n",
            "5    10/3/2018  ...    mn\n",
            "6    10/4/2018  ...    mn\n",
            "7    10/5/2018  ...    or\n",
            "8    10/6/2018  ...    ca\n",
            "9   10/11/2018  ...    ca\n",
            "10  10/12/2018  ...    ca\n",
            "11  10/13/2018  ...    mn\n",
            "12  10/14/2018  ...    mn\n",
            "13  10/15/2018  ...    or\n",
            "14  10/16/2018  ...    ca\n",
            "15    8/1/2018  ...    ca\n",
            "16    8/2/2018  ...    ca\n",
            "17    8/3/2018  ...    mn\n",
            "18    8/4/2018  ...    mn\n",
            "\n",
            "[16 rows x 6 columns]\n"
          ],
          "name": "stdout"
        }
      ]
    },
    {
      "cell_type": "code",
      "metadata": {
        "id": "E6QANU0L4t-b",
        "colab_type": "code",
        "colab": {}
      },
      "source": [
        "from IPython.display import display, Javascript\n",
        "from google.colab.output import eval_js\n",
        "from base64 import b64decode\n",
        "\n",
        "def take_photo(filename='photo.jpg', quality=0.8):\n",
        "  js = Javascript('''\n",
        "    async function takePhoto(quality) {\n",
        "      const div = document.createElement('div');\n",
        "      const capture = document.createElement('button');\n",
        "      capture.textContent = 'Capture';\n",
        "      div.appendChild(capture);\n",
        "\n",
        "      const video = document.createElement('video');\n",
        "      video.style.display = 'block';\n",
        "      const stream = await navigator.mediaDevices.getUserMedia({video: true});\n",
        "\n",
        "      document.body.appendChild(div);\n",
        "      div.appendChild(video);\n",
        "      video.srcObject = stream;\n",
        "      await video.play();\n",
        "\n",
        "      // Resize the output to fit the video element.\n",
        "      google.colab.output.setIframeHeight(document.documentElement.scrollHeight, true);\n",
        "\n",
        "      // Wait for Capture to be clicked.\n",
        "      await new Promise((resolve) => capture.onclick = resolve);\n",
        "\n",
        "      const canvas = document.createElement('canvas');\n",
        "      canvas.width = video.videoWidth;\n",
        "      canvas.height = video.videoHeight;\n",
        "      canvas.getContext('2d').drawImage(video, 0, 0);\n",
        "      stream.getVideoTracks()[0].stop();\n",
        "      div.remove();\n",
        "      return canvas.toDataURL('image/jpeg', quality);\n",
        "    }\n",
        "    ''')\n",
        "  display(js)\n",
        "  data = eval_js('takePhoto({})'.format(quality))\n",
        "  binary = b64decode(data.split(',')[1])\n",
        "  with open(filename, 'wb') as f:\n",
        "    f.write(binary)\n",
        "  return filename"
      ],
      "execution_count": 0,
      "outputs": []
    },
    {
      "cell_type": "code",
      "metadata": {
        "id": "EcXdAl2z4u-y",
        "colab_type": "code",
        "outputId": "4c0a2a57-22ae-49a8-930f-21cf25018be8",
        "colab": {
          "base_uri": "https://localhost:8080/",
          "height": 17
        }
      },
      "source": [
        "%%javascript\n",
        "const listenerChannel = new BroadcastChannel('channel');\n",
        "listenerChannel.onmessage = (msg) => {\n",
        "  const div = document.createElement('div');\n",
        "  div.textContent = msg.data;\n",
        "  document.body.appendChild(div);\n",
        "};"
      ],
      "execution_count": 0,
      "outputs": [
        {
          "output_type": "display_data",
          "data": {
            "application/javascript": [
              "const listenerChannel = new BroadcastChannel('channel');\n",
              "listenerChannel.onmessage = (msg) => {\n",
              "  const div = document.createElement('div');\n",
              "  div.textContent = msg.data;\n",
              "  document.body.appendChild(div);\n",
              "};"
            ],
            "text/plain": [
              "<IPython.core.display.Javascript object>"
            ]
          },
          "metadata": {
            "tags": []
          }
        }
      ]
    },
    {
      "cell_type": "markdown",
      "metadata": {
        "id": "CYp3MX6b40Hv",
        "colab_type": "text"
      },
      "source": [
        "# New Section"
      ]
    },
    {
      "cell_type": "code",
      "metadata": {
        "id": "9tMBbTsK4u-Z",
        "colab_type": "code",
        "colab": {}
      },
      "source": [
        "%%javascript\n",
        "const senderChannel = new BroadcastChannel('channel');\n",
        "senderChannel.postMessage('Hello world!');"
      ],
      "execution_count": 0,
      "outputs": []
    },
    {
      "cell_type": "code",
      "metadata": {
        "id": "b044MP314t96",
        "colab_type": "code",
        "colab": {}
      },
      "source": [
        "from IPython.display import Image\n",
        "try:\n",
        "  filename = take_photo()\n",
        "  print('Saved to {}'.format(filename))\n",
        "  \n",
        "  # Show the image which was just taken.\n",
        "  display(Image(filename))\n",
        "except Exception as err:\n",
        "  # Errors will be thrown if the user does not have a webcam or if they do not\n",
        "  # grant the page permission to access it.\n",
        "  print(str(err))"
      ],
      "execution_count": 0,
      "outputs": []
    },
    {
      "cell_type": "code",
      "metadata": {
        "id": "cS9irVSX4UxM",
        "colab_type": "code",
        "colab": {}
      },
      "source": [
        ""
      ],
      "execution_count": 0,
      "outputs": []
    }
  ]
}