{
  "nbformat": 4,
  "nbformat_minor": 0,
  "metadata": {
    "colab": {
      "name": "Keras_quiz2.ipynb",
      "provenance": [],
      "collapsed_sections": [],
      "include_colab_link": true
    },
    "kernelspec": {
      "name": "python3",
      "display_name": "Python 3"
    },
    "accelerator": "GPU"
  },
  "cells": [
    {
      "cell_type": "markdown",
      "metadata": {
        "id": "view-in-github",
        "colab_type": "text"
      },
      "source": [
        "<a href=\"https://colab.research.google.com/github/wlin988/1-pandas-project/blob/master/Keras_quiz2.ipynb\" target=\"_parent\"><img src=\"https://colab.research.google.com/assets/colab-badge.svg\" alt=\"Open In Colab\"/></a>"
      ]
    },
    {
      "cell_type": "markdown",
      "metadata": {
        "id": "HyqEm4SHFtS8",
        "colab_type": "text"
      },
      "source": [
        "Quiz #2 (11/08/2019)\n",
        "  \n",
        "Q1) use the Sequential class to define a Keras model with:\n",
        "a) an input layer of size 784\n",
        "b) a hidden layer of size 32\n",
        "c) an output layer of size 10 and 'softmax' activation function\n",
        "d) display a summary of the structure of the model\n",
        "\n",
        "Q2) use the Sequential class to define a Keras model with:\n",
        "a) has an input layer of size 784\n",
        "b) has a hidden layer of size 32\n",
        "c) an output layer of size 1 and 'sigmoid' activation function\n",
        "d) display a summary of the structure of the model\n",
        "\n",
        "Now use the compile() API to compile the model with:\n",
        "e) the RMSProp optimizer\n",
        "f) the 'mse' loss function\n",
        "\n",
        "=> send me a zip file of the form: keras-quiz1-<your-name>.zip\n",
        "=> no special characters or blanks in the zip file: thanks!\n"
      ]
    },
    {
      "cell_type": "code",
      "metadata": {
        "id": "-41yX88MGbuc",
        "colab_type": "code",
        "colab": {}
      },
      "source": [
        "%tensorflow_version 2.x"
      ],
      "execution_count": 0,
      "outputs": []
    },
    {
      "cell_type": "code",
      "metadata": {
        "id": "E62Gary3F-v2",
        "colab_type": "code",
        "colab": {}
      },
      "source": [
        "# keras from tf 2.x\n",
        "from __future__ import absolute_import, division, print_function, unicode_literals\n",
        "import tensorflow as tf\n",
        "from tensorflow import keras\n",
        "from tensorflow.keras import layers"
      ],
      "execution_count": 0,
      "outputs": []
    },
    {
      "cell_type": "code",
      "metadata": {
        "id": "PAhEG8dRH_fr",
        "colab_type": "code",
        "colab": {
          "base_uri": "https://localhost:8080/",
          "height": 255
        },
        "outputId": "039b7204-0b85-4cbb-bb94-5c35df55444d"
      },
      "source": [
        "model = tf.keras.Sequential()\n",
        "\n",
        "inputs = keras.Input(shape=(784,))\n",
        "hidden = layers.Dense(32)(inputs)\n",
        "outputs = layers.Dense(10, activation='softmax')(hidden)\n",
        "\n",
        "model = keras.Model(inputs=inputs, outputs=outputs, name='keras_softmax_model')\n",
        "model.summary()\n"
      ],
      "execution_count": 42,
      "outputs": [
        {
          "output_type": "stream",
          "text": [
            "Model: \"keras_softmax_model\"\n",
            "_________________________________________________________________\n",
            "Layer (type)                 Output Shape              Param #   \n",
            "=================================================================\n",
            "input_12 (InputLayer)        [(None, 784)]             0         \n",
            "_________________________________________________________________\n",
            "dense_38 (Dense)             (None, 32)                25120     \n",
            "_________________________________________________________________\n",
            "dense_39 (Dense)             (None, 10)                330       \n",
            "=================================================================\n",
            "Total params: 25,450\n",
            "Trainable params: 25,450\n",
            "Non-trainable params: 0\n",
            "_________________________________________________________________\n"
          ],
          "name": "stdout"
        }
      ]
    },
    {
      "cell_type": "code",
      "metadata": {
        "id": "hHtnoYMqMGEM",
        "colab_type": "code",
        "colab": {
          "base_uri": "https://localhost:8080/",
          "height": 312
        },
        "outputId": "5584d320-25b7-4df7-89a4-82d9cd5fb524"
      },
      "source": [
        "keras.utils.plot_model(model, 'keras_softmax.png', show_shapes=True)"
      ],
      "execution_count": 44,
      "outputs": [
        {
          "output_type": "execute_result",
          "data": {
            "image/png": "[encoded data removed]",
            "text/plain": [
              "<IPython.core.display.Image object>"
            ]
          },
          "metadata": {
            "tags": []
          },
          "execution_count": 44
        }
      ]
    },
    {
      "cell_type": "code",
      "metadata": {
        "id": "BasQAFLhLi8b",
        "colab_type": "code",
        "colab": {
          "base_uri": "https://localhost:8080/",
          "height": 255
        },
        "outputId": "c8716cb7-c5c3-4e0e-c159-c2e75d32e56d"
      },
      "source": [
        "model = tf.keras.Sequential()\n",
        "\n",
        "inputs = keras.Input(shape=(784,))\n",
        "hidden = layers.Dense(32)(inputs)\n",
        "outputs = layers.Dense(1, activation='sigmoid')(hidden)\n",
        "\n",
        "model = keras.Model(inputs=inputs, outputs=outputs, name='keras_sigmoid_model')\n",
        "model.summary()"
      ],
      "execution_count": 46,
      "outputs": [
        {
          "output_type": "stream",
          "text": [
            "Model: \"keras_sigmoid_model\"\n",
            "_________________________________________________________________\n",
            "Layer (type)                 Output Shape              Param #   \n",
            "=================================================================\n",
            "input_14 (InputLayer)        [(None, 784)]             0         \n",
            "_________________________________________________________________\n",
            "dense_42 (Dense)             (None, 32)                25120     \n",
            "_________________________________________________________________\n",
            "dense_43 (Dense)             (None, 1)                 33        \n",
            "=================================================================\n",
            "Total params: 25,153\n",
            "Trainable params: 25,153\n",
            "Non-trainable params: 0\n",
            "_________________________________________________________________\n"
          ],
          "name": "stdout"
        }
      ]
    },
    {
      "cell_type": "code",
      "metadata": {
        "id": "g4PJKVdAP9r1",
        "colab_type": "code",
        "colab": {}
      },
      "source": [
        "# Compile.\n",
        "model.compile(optimizer=tf.keras.optimizers.RMSprop(0.01),\n",
        "              loss='mse',\n",
        "              metrics=['mae'])"
      ],
      "execution_count": 0,
      "outputs": []
    }
  ]
}