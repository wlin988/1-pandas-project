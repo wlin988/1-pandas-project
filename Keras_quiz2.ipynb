{
  "nbformat": 4,
  "nbformat_minor": 0,
  "metadata": {
    "colab": {
      "name": "Keras_quiz2.ipynb",
      "provenance": [],
      "collapsed_sections": [],
      "include_colab_link": true
    },
    "kernelspec": {
      "name": "python3",
      "display_name": "Python 3"
    },
    "accelerator": "GPU"
  },
  "cells": [
    {
      "cell_type": "markdown",
      "metadata": {
        "id": "view-in-github",
        "colab_type": "text"
      },
      "source": [
        "<a href=\"https://colab.research.google.com/github/wlin988/1-pandas-project/blob/master/Keras_quiz2.ipynb\" target=\"_parent\"><img src=\"https://colab.research.google.com/assets/colab-badge.svg\" alt=\"Open In Colab\"/></a>"
      ]
    },
    {
      "cell_type": "code",
      "metadata": {
        "id": "KMxFvcvJFsRC",
        "colab_type": "code",
        "colab": {}
      },
      "source": [
        ""
      ],
      "execution_count": 0,
      "outputs": []
    },
    {
      "cell_type": "markdown",
      "metadata": {
        "id": "HyqEm4SHFtS8",
        "colab_type": "text"
      },
      "source": [
        "Quiz #2 (11/08/2019)\n",
        "  \n",
        "Q1) use the Sequential class to define a Keras model with:\n",
        "a) an input layer of size 784\n",
        "b) a hidden layer of size 32\n",
        "c) an output layer of size 10 and 'softmax' activation function\n",
        "d) display a summary of the structure of the model\n",
        "\n",
        "Q2) use the Sequential class to define a Keras model with:\n",
        "a) has an input layer of size 784\n",
        "b) has a hidden layer of size 32\n",
        "c) an output layer of size 1 and 'sigmoid' activation function\n",
        "d) display a summary of the structure of the model\n",
        "\n",
        "Now use the compile() API to compile the model with:\n",
        "e) the RMSProp optimizer\n",
        "f) the 'mse' loss function\n",
        "\n",
        "=> send me a zip file of the form: keras-quiz1-<your-name>.zip\n",
        "=> no special characters or blanks in the zip file: thanks!\n"
      ]
    },
    {
      "cell_type": "code",
      "metadata": {
        "id": "-41yX88MGbuc",
        "colab_type": "code",
        "colab": {
          "base_uri": "https://localhost:8080/",
          "height": 34
        },
        "outputId": "bec49084-c2f3-457e-d676-f237826c265d"
      },
      "source": [
        "%tensorflow_version 2.x"
      ],
      "execution_count": 1,
      "outputs": [
        {
          "output_type": "stream",
          "text": [
            "TensorFlow 2.x selected.\n"
          ],
          "name": "stdout"
        }
      ]
    },
    {
      "cell_type": "code",
      "metadata": {
        "id": "E62Gary3F-v2",
        "colab_type": "code",
        "colab": {
          "base_uri": "https://localhost:8080/",
          "height": 34
        },
        "outputId": "d302c2af-f979-4136-f612-a726933cf589"
      },
      "source": [
        "# first neural network with keras tutorial\n",
        "from numpy import loadtxt\n",
        "from keras.models import Sequential\n",
        "from keras.layers import Dense"
      ],
      "execution_count": 2,
      "outputs": [
        {
          "output_type": "stream",
          "text": [
            "Using TensorFlow backend.\n"
          ],
          "name": "stderr"
        }
      ]
    },
    {
      "cell_type": "code",
      "metadata": {
        "id": "PAhEG8dRH_fr",
        "colab_type": "code",
        "colab": {}
      },
      "source": [
        ""
      ],
      "execution_count": 0,
      "outputs": []
    }
  ]
}